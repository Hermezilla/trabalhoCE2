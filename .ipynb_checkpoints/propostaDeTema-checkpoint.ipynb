{
 "cells": [
  {
   "cell_type": "markdown",
   "id": "00e92970",
   "metadata": {},
   "source": [
    "## Computação em Estatística 2 (2020/2)"
   ]
  },
  {
   "cell_type": "markdown",
   "id": "5e9db1c5",
   "metadata": {},
   "source": [
    "### Grupo:\n",
    "- Daniel 200016580\n",
    "- Davi 200016741\n",
    "- Hermes 190099682\n",
    "- Igor 180122207"
   ]
  },
  {
   "cell_type": "markdown",
   "id": "c37f363e",
   "metadata": {},
   "source": [
    "### Tema do trabalho\n",
    "Luka Doncic pode ser o próximo LeBron James? Quais as similaridades e diferenças?"
   ]
  },
  {
   "cell_type": "markdown",
   "id": "51428295",
   "metadata": {},
   "source": [
    "### O objetivo do trabalho é descobrir o que ou descrever o que?"
   ]
  },
  {
   "cell_type": "markdown",
   "id": "23d775ec",
   "metadata": {},
   "source": [
    "O objetivo do trabalho é descrever as características das estatísticas dos dois jogadores, demonstrar em gráficos, fazer comparações, testes e talvez chegar a alguma conclusão relevante."
   ]
  },
  {
   "cell_type": "markdown",
   "id": "5259d40f",
   "metadata": {},
   "source": [
    "### Quais conjuntos de dados serão utilizados e suas fontes."
   ]
  },
  {
   "cell_type": "markdown",
   "id": "0663fd5f",
   "metadata": {},
   "source": [
    "Serão utilizados os dados dos jogadores em cada partida que atuaram e também os dados condensados da carreira por temporada. Os dados foram obtidos da própria NBA através do site stats.nba.com, utilizando o pacote python nba_api\n",
    "<br/><br/>\n",
    "Arquivos de dados e script de extração em https://github.com/Hermezilla/trabalhoCE2"
   ]
  },
  {
   "cell_type": "markdown",
   "id": "5d570bd4",
   "metadata": {},
   "source": [
    "### Qual a dimensão dos dados? (Quantas linhas ou registros e quantas colunas ou variáveis?)"
   ]
  },
  {
   "cell_type": "markdown",
   "id": "f478fc2f",
   "metadata": {},
   "source": [
    "Até o dia 22/04/2021 pela manhã:\n",
    "- Luka Doncic.csv: [185,29]\n",
    "- Luka Doncic Career.csv: [3,27]\n",
    "- LeBron James.csv: [1306,29]\n",
    "- LeBron James Career.csv: [18,27]"
   ]
  },
  {
   "cell_type": "markdown",
   "id": "a24e9e24",
   "metadata": {},
   "source": [
    "### Cite ao menos 3 variáveis de relevância e suas classificações"
   ]
  },
  {
   "cell_type": "markdown",
   "id": "f56a61f0",
   "metadata": {},
   "source": [
    "- SEASON: Qualitativa Ordinal\n",
    "- TEAM_NAME: Qualitativa Nominal\n",
    "- WL: Qualitativa Nominal\n",
    "- HOME: Qualitativa Nominal\n",
    "- MIN: Quantitativa Discreta\n",
    "- PTS: Quantitativa Discreta\n",
    "- FG3_PCT: Quantitativa Contínua\n",
    "- FT_PCT: Quantitativa Contínua\n",
    "- REB: Quantitativa Discreta\n",
    "- AST: Quantitativa Discreta\n",
    "- TOV: Quantitativa Discreta\n",
    "- PLUS_MINUS: Quantitativa Discreta"
   ]
  }
 ],
 "metadata": {
  "kernelspec": {
   "display_name": "Python 3",
   "language": "python",
   "name": "python3"
  },
  "language_info": {
   "codemirror_mode": {
    "name": "ipython",
    "version": 3
   },
   "file_extension": ".py",
   "mimetype": "text/x-python",
   "name": "python",
   "nbconvert_exporter": "python",
   "pygments_lexer": "ipython3",
   "version": "3.8.5"
  }
 },
 "nbformat": 4,
 "nbformat_minor": 5
}
