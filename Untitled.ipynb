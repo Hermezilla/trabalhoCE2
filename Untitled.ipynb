{
 "cells": [
  {
   "cell_type": "markdown",
   "id": "199e28fd",
   "metadata": {},
   "source": [
    "## Computação em Estatística 2 (2020/2)"
   ]
  },
  {
   "cell_type": "markdown",
   "id": "9f08014b",
   "metadata": {},
   "source": [
    "### Grupo:\n",
    "- Daniel 200016580\n",
    "- Davi 200016741\n",
    "- Hermes 190099682\n",
    "- Igor 180122207"
   ]
  },
  {
   "cell_type": "markdown",
   "id": "974ec7b9",
   "metadata": {},
   "source": [
    "### Tema do trabalho\n",
    "Luka Doncic pode ser o próximo LeBron James? Quais as similaridades e diferenças?"
   ]
  },
  {
   "cell_type": "markdown",
   "id": "508620e4",
   "metadata": {},
   "source": [
    "### O objetivo do trabalho é descobrir o que ou descrever o que?"
   ]
  },
  {
   "cell_type": "markdown",
   "id": "8b061e5e",
   "metadata": {},
   "source": [
    "O objetivo do trabalho é descrever as características das estatísticas dos dois jogadores, demonstrar em gráficos, fazer comparações, testes e talvez chegar a alguma conclusão relevante."
   ]
  },
  {
   "cell_type": "markdown",
   "id": "b8b586d6",
   "metadata": {},
   "source": [
    "### Quais conjuntos de dados serão utilizados e suas fontes."
   ]
  },
  {
   "cell_type": "markdown",
   "id": "f0639ac8",
   "metadata": {},
   "source": [
    "Serão utilizados os dados dos jogadores em cada partida que atuaram e também os dados condensados da carreira por temporada. Os dados foram obtidos da própria NBA através do site stats.nba.com, utilizando o pacote python nba_api"
   ]
  },
  {
   "cell_type": "markdown",
   "id": "e2eab6a2",
   "metadata": {},
   "source": [
    "### Qual a dimensão dos dados? (Quantas linhas ou registros e quantas colunas ou variáveis?)"
   ]
  },
  {
   "cell_type": "markdown",
   "id": "7e2593de",
   "metadata": {},
   "source": [
    "Até o dia 22/04/2021 pela manhã:\n",
    "- Luka Doncic.csv: [185,29]\n",
    "- Luka Doncic Career.csv: [3,27]\n",
    "- LeBron James.csv: [1306,29]\n",
    "- LeBron James Career.csv: [18,27]"
   ]
  },
  {
   "cell_type": "markdown",
   "id": "0a5a5a21",
   "metadata": {},
   "source": [
    "### Cite ao menos 3 variáveis de relevância e suas classificações"
   ]
  },
  {
   "cell_type": "markdown",
   "id": "e6ed9f92",
   "metadata": {},
   "source": [
    "- SEASON: Qualitativa Ordinal\n",
    "- TEAM_NAME: Qualitativa Nominal\n",
    "- WL: Qualitativa Nominal\n",
    "- HOME: Qualitativa Nominal\n",
    "- MIN: Quantitativa Discreta\n",
    "- PTS: Quantitativa Discreta\n",
    "- FG3_PCT: Quantitativa Contínua\n",
    "- FT_PCT: Quantitativa Contínua\n",
    "- REB: Quantitativa Discreta\n",
    "- AST: Quantitativa Discreta\n",
    "- TOV: Quantitativa Discreta\n",
    "- PLUS_MINUS: \n",
    "\n",
    "1306 non-null   int64  \n",
    " 10  FGM                1306 non-null   int64  \n",
    " 11  FGA                1306 non-null   int64  \n",
    " 12  FG_PCT             1306 non-null   float64\n",
    " 13  FG3M               1306 non-null   int64  \n",
    " 14  FG3A               1306 non-null   int64  \n",
    " 15  FG3_PCT            1266 non-null   float64\n",
    " 16  FTM                1306 non-null   int64  \n",
    " 17  FTA                1306 non-null   int64  \n",
    " 18  FT_PCT             1292 non-null   float64\n",
    " 19  OREB               1306 non-null   int64  \n",
    " 20  DREB               1306 non-null   int64  \n",
    " 21  REB                1306 non-null   int64  \n",
    " 22  AST                1306 non-null   int64  \n",
    " 23  STL                1306 non-null   int64  \n",
    " 24  BLK                1306 non-null   int64  \n",
    " 25  TOV                1306 non-null   int64  \n",
    " 26  PF                 1306 non-null   int64  \n",
    " 27  PLUS_MINUS         1306 non-null   float64\n",
    " 28  HOME               1306 non-null   bool   \n"
   ]
  }
 ],
 "metadata": {
  "kernelspec": {
   "display_name": "Python 3",
   "language": "python",
   "name": "python3"
  },
  "language_info": {
   "codemirror_mode": {
    "name": "ipython",
    "version": 3
   },
   "file_extension": ".py",
   "mimetype": "text/x-python",
   "name": "python",
   "nbconvert_exporter": "python",
   "pygments_lexer": "ipython3",
   "version": "3.8.5"
  }
 },
 "nbformat": 4,
 "nbformat_minor": 5
}
